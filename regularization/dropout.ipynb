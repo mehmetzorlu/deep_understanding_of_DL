{
  "nbformat": 4,
  "nbformat_minor": 0,
  "metadata": {
    "colab": {
      "provenance": [],
      "authorship_tag": "ABX9TyMQz81A4Jv7VdysBjeG0ZyX"
    },
    "kernelspec": {
      "name": "python3",
      "display_name": "Python 3"
    },
    "language_info": {
      "name": "python"
    }
  },
  "cells": [
    {
      "cell_type": "code",
      "execution_count": 1,
      "metadata": {
        "id": "jA14bYaOx1KR"
      },
      "outputs": [],
      "source": [
        "# import libraries\n",
        "import torch\n",
        "import torch.nn as nn\n",
        "import torch.nn.functional as F"
      ]
    },
    {
      "cell_type": "markdown",
      "source": [
        "## Using dropout"
      ],
      "metadata": {
        "id": "9UB0V94Jx8JE"
      }
    },
    {
      "cell_type": "code",
      "source": [
        "# define a dropout instance and make some data\n",
        "prob = .5\n",
        "\n",
        "dropout = nn.Dropout(p=prob)\n",
        "x = torch.ones(10)\n",
        "\n",
        "# let's see what dropout returns\n",
        "y = dropout(x) # non-zero values are scale up\n",
        "print(x)\n",
        "print(y)\n",
        "print(y*(1-prob))\n",
        "print(torch.mean(y))"
      ],
      "metadata": {
        "colab": {
          "base_uri": "https://localhost:8080/"
        },
        "id": "qCSJiWYox9wr",
        "outputId": "1c2acef7-8e75-4584-c4eb-366264a1ab4e"
      },
      "execution_count": 69,
      "outputs": [
        {
          "output_type": "stream",
          "name": "stdout",
          "text": [
            "tensor([1., 1., 1., 1., 1., 1., 1., 1., 1., 1.])\n",
            "tensor([0., 2., 2., 0., 2., 2., 2., 2., 2., 2.])\n",
            "tensor([0., 1., 1., 0., 1., 1., 1., 1., 1., 1.])\n",
            "tensor(1.6000)\n"
          ]
        }
      ]
    },
    {
      "cell_type": "code",
      "source": [
        "# dropout is turned off when evaluating the model\n",
        "dropout.eval()\n",
        "y = dropout(x)\n",
        "print(y)\n",
        "print(torch.mean(y))"
      ],
      "metadata": {
        "colab": {
          "base_uri": "https://localhost:8080/"
        },
        "id": "fjN-B_DNyDpM",
        "outputId": "80c51ee3-ee85-4bbe-8c66-f01f530c411d"
      },
      "execution_count": 54,
      "outputs": [
        {
          "output_type": "stream",
          "name": "stdout",
          "text": [
            "tensor([1., 1., 1., 1., 1., 1., 1., 1., 1., 1.])\n",
            "tensor(1.)\n"
          ]
        }
      ]
    },
    {
      "cell_type": "code",
      "source": [
        "# annoyingly, F.dropout() is not deactivated in eval mode:\n",
        "dropout.eval()\n",
        "y = F.dropout(x)\n",
        "print(y)\n",
        "print(torch.mean(y))"
      ],
      "metadata": {
        "colab": {
          "base_uri": "https://localhost:8080/"
        },
        "id": "Gvmvj3oNyE3S",
        "outputId": "06d640b4-c26a-4d81-a973-57234ab6d1a7"
      },
      "execution_count": 56,
      "outputs": [
        {
          "output_type": "stream",
          "name": "stdout",
          "text": [
            "tensor([2., 0., 0., 0., 2., 2., 2., 2., 2., 2.])\n",
            "tensor(1.4000)\n"
          ]
        }
      ]
    },
    {
      "cell_type": "code",
      "source": [
        "# but you can manually switch it off\n",
        "# dropout.eval()\n",
        "y = F.dropout(x,training=False)\n",
        "\n",
        "print(y)\n",
        "print(torch.mean(y))"
      ],
      "metadata": {
        "colab": {
          "base_uri": "https://localhost:8080/"
        },
        "id": "UYEjIWEVyF5s",
        "outputId": "1762a98f-98d7-49da-cd2b-f7e010d06b1a"
      },
      "execution_count": 59,
      "outputs": [
        {
          "output_type": "stream",
          "name": "stdout",
          "text": [
            "tensor([1., 1., 1., 1., 1., 1., 1., 1., 1., 1.])\n",
            "tensor(1.)\n"
          ]
        }
      ]
    },
    {
      "cell_type": "code",
      "source": [
        "# the model needs to be reset after toggling into eval mode\n",
        "dropout.train()\n",
        "y = dropout(x)\n",
        "print(y) # with dropout\n",
        "\n",
        "dropout.eval()\n",
        "y = dropout(x)\n",
        "print(y) # without dropout\n",
        "\n",
        "# dropout.train()\n",
        "y = dropout(x)\n",
        "print(y) # still w/o dropout ;)\n",
        "\n",
        "dropout.train()\n",
        "y = dropout(x)\n",
        "print(y) # still w/o dropout ;)"
      ],
      "metadata": {
        "colab": {
          "base_uri": "https://localhost:8080/"
        },
        "id": "mnbphYOXyHUX",
        "outputId": "9e6ae204-c884-4c89-bf11-13509b95e0b2"
      },
      "execution_count": 68,
      "outputs": [
        {
          "output_type": "stream",
          "name": "stdout",
          "text": [
            "tensor([0., 2., 0., 2., 0., 0., 2., 0., 0., 2.])\n",
            "tensor([1., 1., 1., 1., 1., 1., 1., 1., 1., 1.])\n",
            "tensor([1., 1., 1., 1., 1., 1., 1., 1., 1., 1.])\n",
            "tensor([2., 0., 2., 0., 0., 2., 0., 0., 2., 0.])\n"
          ]
        }
      ]
    }
  ]
}