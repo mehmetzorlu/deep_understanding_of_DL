{
  "nbformat": 4,
  "nbformat_minor": 0,
  "metadata": {
    "colab": {
      "provenance": [],
      "authorship_tag": "ABX9TyPjqapjQIwEInPi7h3RRfeh"
    },
    "kernelspec": {
      "name": "python3",
      "display_name": "Python 3"
    },
    "language_info": {
      "name": "python"
    }
  },
  "cells": [
    {
      "cell_type": "code",
      "execution_count": 1,
      "metadata": {
        "id": "W1M6nt6jxqkl"
      },
      "outputs": [],
      "source": [
        "# import libraries\n",
        "import numpy as np\n",
        "import torch"
      ]
    },
    {
      "cell_type": "markdown",
      "source": [
        "## Using numpy"
      ],
      "metadata": {
        "id": "X--w8aQNx0Dr"
      }
    },
    {
      "cell_type": "code",
      "source": [
        "# create a vector\n",
        "v = np.array([ 1, 40, 2, -3])\n",
        "\n",
        "# find and report the maximum and minimum values\n",
        "minval = np.min(v)\n",
        "maxval = np.max(v)\n",
        "\n",
        "print('Min,max: %g,%g' %(minval,maxval))\n",
        "\n",
        "# now for the argmin/max\n",
        "minidx = np.argmin(v)\n",
        "maxidx = np.argmax(v)\n",
        "\n",
        "print('Min,max indices: %g,%g' %(minidx,maxidx)), print(' ')\n",
        "\n",
        "# confirm\n",
        "print(f'Min val is {v[minidx]}, max val is {v[maxidx]}')"
      ],
      "metadata": {
        "colab": {
          "base_uri": "https://localhost:8080/"
        },
        "id": "nR8ZOBOVx3f1",
        "outputId": "3034482f-9344-4e69-f5fe-2b1b52b53e39"
      },
      "execution_count": 3,
      "outputs": [
        {
          "output_type": "stream",
          "name": "stdout",
          "text": [
            "Min,max: -3,40\n",
            "Min,max indices: 3,1\n",
            " \n",
            "Min val is -3, max val is 40\n"
          ]
        }
      ]
    },
    {
      "cell_type": "code",
      "source": [
        "# repeat with matrix\n",
        "M = np.array([[0,1,10], [20,8,5]])\n",
        "print(M), print(' ')\n",
        "\n",
        "# various minima in this matrix!\n",
        "minvals1 = np.min(M) # minimum fromm ENTIRE matrix\n",
        "minvals2 = np.min(M,axis=0) # minimum from each column (accross rows)\n",
        "minvals3 = np.min(M,axis=1) # minimum from each row (accross columns)\n",
        "\n",
        "# print them out\n",
        "print(minvals1)\n",
        "print(minvals2)\n",
        "print(minvals3)"
      ],
      "metadata": {
        "colab": {
          "base_uri": "https://localhost:8080/"
        },
        "id": "w_TJ8Jdcy8qN",
        "outputId": "3fa70d35-eb4f-476b-a954-7a20631ca995"
      },
      "execution_count": 10,
      "outputs": [
        {
          "output_type": "stream",
          "name": "stdout",
          "text": [
            "[[ 0  1 10]\n",
            " [20  8  5]]\n",
            " \n",
            "0\n",
            "[0 1 5]\n",
            "[0 5]\n"
          ]
        }
      ]
    },
    {
      "cell_type": "code",
      "source": [
        "# various minima in this matrix!\n",
        "minidx1 = np.argmin(M) # minimum from ENTIRE matrix\n",
        "minidx2 = np.argmin(M, axis=0) # minimum from each column (accross rows)\n",
        "minidx3 = np.argmin(M, axis=1) # minimum of each row (accross columns)\n",
        "\n",
        "# print them out\n",
        "print(M), print(' ') # reminder\n",
        "print(minidx1)\n",
        "print(minidx2)\n",
        "print(minidx3)"
      ],
      "metadata": {
        "colab": {
          "base_uri": "https://localhost:8080/"
        },
        "id": "DldbI9LG0u4p",
        "outputId": "01d6246f-3158-4662-df4d-92c14a23dda0"
      },
      "execution_count": 12,
      "outputs": [
        {
          "output_type": "stream",
          "name": "stdout",
          "text": [
            "[[ 0  1 10]\n",
            " [20  8  5]]\n",
            " \n",
            "0\n",
            "[0 0 1]\n",
            "[0 2]\n"
          ]
        }
      ]
    },
    {
      "cell_type": "markdown",
      "source": [
        "## Using pytorch"
      ],
      "metadata": {
        "id": "rbhmZjPk1i8d"
      }
    },
    {
      "cell_type": "code",
      "source": [
        "# create a vector\n",
        "v = torch.tensor([1,40,2,-3])\n",
        "\n",
        "# find and report the maximum and minimum values\n",
        "minval = torch.min(v)\n",
        "maxval = torch.max(v)\n",
        "\n",
        "print('Min,max: %g,%g' %(minval,maxval))\n",
        "\n",
        "# now for the argmin/max\n",
        "minidx = torch.argmin(v)\n",
        "maxidx = torch.argmax(v)\n",
        "\n",
        "print('Min,max indeces: %g,%g' %(minidx,maxidx)), print(' ')\n",
        "\n",
        "# confirm\n",
        "print(f'Min val is { v[minidx]}, max val is { v[maxidx]}')"
      ],
      "metadata": {
        "colab": {
          "base_uri": "https://localhost:8080/"
        },
        "id": "DXE3wyzw1kpz",
        "outputId": "cc0dbf9c-466f-4ca9-f116-898901ac2052"
      },
      "execution_count": 14,
      "outputs": [
        {
          "output_type": "stream",
          "name": "stdout",
          "text": [
            "Min,max: -3,40\n",
            "Min,max indeces: 3,1\n",
            " \n",
            "Min val is -3, max val is 40\n"
          ]
        }
      ]
    },
    {
      "cell_type": "code",
      "source": [
        "# repeat with matrix\n",
        "M = torch.tensor([[0,1,10], [20,8,5]])\n",
        "print(M), print(' ')\n",
        "\n",
        "# various minima in this matrix!\n",
        "min1 = torch.min(M) # minimum from ENTIRE matrix\n",
        "min2 = torch.min(M, axis=0) # minimum of each colum (across rows)\n",
        "min3 = torch.min(M, axis=1) # minimum of each row (across columns)\n",
        "\n",
        "# print them out\n",
        "print(min1), print(' ')\n",
        "print(min2), print(' ')\n",
        "print(min2.values)\n",
        "print(min2.indices)"
      ],
      "metadata": {
        "colab": {
          "base_uri": "https://localhost:8080/"
        },
        "id": "rsAPQ8Z82eU2",
        "outputId": "e729aff6-6689-4a33-e52c-48b2df6c9e4f"
      },
      "execution_count": 15,
      "outputs": [
        {
          "output_type": "stream",
          "name": "stdout",
          "text": [
            "tensor([[ 0,  1, 10],\n",
            "        [20,  8,  5]])\n",
            " \n",
            "tensor(0)\n",
            " \n",
            "torch.return_types.min(\n",
            "values=tensor([0, 1, 5]),\n",
            "indices=tensor([0, 0, 1]))\n",
            " \n",
            "tensor([0, 1, 5])\n",
            "tensor([0, 0, 1])\n"
          ]
        }
      ]
    },
    {
      "cell_type": "code",
      "source": [
        "min2.count"
      ],
      "metadata": {
        "colab": {
          "base_uri": "https://localhost:8080/"
        },
        "id": "vuqb_Omj3Zo9",
        "outputId": "019b8781-46aa-40c5-9945-4e177c760159"
      },
      "execution_count": 16,
      "outputs": [
        {
          "output_type": "execute_result",
          "data": {
            "text/plain": [
              "<function min.count(value, /)>"
            ]
          },
          "metadata": {},
          "execution_count": 16
        }
      ]
    }
  ]
}