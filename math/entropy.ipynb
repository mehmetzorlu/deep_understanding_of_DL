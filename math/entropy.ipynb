{
  "nbformat": 4,
  "nbformat_minor": 0,
  "metadata": {
    "colab": {
      "provenance": [],
      "authorship_tag": "ABX9TyNetkQ8AfKdyBOesI39cNMH"
    },
    "kernelspec": {
      "name": "python3",
      "display_name": "Python 3"
    },
    "language_info": {
      "name": "python"
    }
  },
  "cells": [
    {
      "cell_type": "code",
      "execution_count": 1,
      "metadata": {
        "id": "Xppl2J7lp7OM"
      },
      "outputs": [],
      "source": [
        "# import libraries\n",
        "import numpy as np\n",
        "import matplotlib.pyplot as plt"
      ]
    },
    {
      "cell_type": "markdown",
      "source": [
        "## Reminder of entropy:\n",
        "\n",
        "$$\n",
        "H(p) = -\\sum_{x} p(x) \\ log(p(x))\n",
        "$$"
      ],
      "metadata": {
        "id": "oYcGDUqkqL1-"
      }
    },
    {
      "cell_type": "code",
      "source": [
        "# probability of an event happening\n",
        "p = .25\n",
        "\n",
        "# NOT the correct formula!\n",
        "# because it contains only probability happening\n",
        "# it doesn't contain probability not happening\n",
        "H = -(p*np.log(p))\n",
        "print('Wrong entropy: ' + str(H))"
      ],
      "metadata": {
        "colab": {
          "base_uri": "https://localhost:8080/"
        },
        "id": "4TVKUMK0sQdc",
        "outputId": "122819e5-eae6-4300-9c34-60f4debefcbf"
      },
      "execution_count": 2,
      "outputs": [
        {
          "output_type": "stream",
          "name": "stdout",
          "text": [
            "Wrong entropy: 0.34657359027997264\n"
          ]
        }
      ]
    },
    {
      "cell_type": "code",
      "source": [
        "# the correct way to compute entropy\n",
        "x = [.25, .75]\n",
        "\n",
        "H = 0\n",
        "for p in x:\n",
        "  H -= p * np.log(p)\n",
        "\n",
        "print('Correct entropy: ' + str(H))"
      ],
      "metadata": {
        "colab": {
          "base_uri": "https://localhost:8080/"
        },
        "id": "B0LUpZFAsr8B",
        "outputId": "fd171242-81b7-4dc5-ed81-e3608c1e6288"
      },
      "execution_count": 3,
      "outputs": [
        {
          "output_type": "stream",
          "name": "stdout",
          "text": [
            "Correct entropy: 0.5623351446188083\n"
          ]
        }
      ]
    },
    {
      "cell_type": "code",
      "source": [
        "# also correct, written out for N=2 events\n",
        "# actually this is just binary cross-entropy\n",
        "H = -(p*np.log(p) + (1-p)*np.log(1-p))\n",
        "print('Correct entropy: ' + str(H))"
      ],
      "metadata": {
        "colab": {
          "base_uri": "https://localhost:8080/"
        },
        "id": "fnuPGIf3tF3W",
        "outputId": "586ff00c-ad88-408f-bdda-8936a132a0e3"
      },
      "execution_count": 4,
      "outputs": [
        {
          "output_type": "stream",
          "name": "stdout",
          "text": [
            "Correct entropy: 0.5623351446188083\n"
          ]
        }
      ]
    },
    {
      "cell_type": "markdown",
      "source": [
        "## Cross-entropy"
      ],
      "metadata": {
        "id": "vYtvz2bM3TIo"
      }
    },
    {
      "cell_type": "code",
      "source": [
        "# note: all probs must sum to 1!\n",
        "p = [1, 0] # sum = 1, picture is cat or not\n",
        "q = [.25,.75] # sum = 1, model says that it is cat or not cat\n",
        "\n",
        "H = 0\n",
        "for i in range(len(p)):\n",
        "  H-=p[i]*np.log(q[i])\n",
        "\n",
        "print('Cross entropy: ' + str(H))"
      ],
      "metadata": {
        "colab": {
          "base_uri": "https://localhost:8080/"
        },
        "id": "fOMYY8or3Vtj",
        "outputId": "80660ccc-5d60-477e-b995-0ed76863dc5d"
      },
      "execution_count": 5,
      "outputs": [
        {
          "output_type": "stream",
          "name": "stdout",
          "text": [
            "Cross entropy: 1.3862943611198906\n"
          ]
        }
      ]
    },
    {
      "cell_type": "code",
      "source": [
        "# also correct, written out for N=2 events\n",
        "H = - (p[0]*np.log(q[0]) + p[1]*np.log(q[1]))\n",
        "print('Correct entropy: ' + str(H))\n",
        "\n",
        "# simplification, because p[1] is 0\n",
        "H = -np.log(q[0])\n",
        "print('Manually simplified: ' + str(H))"
      ],
      "metadata": {
        "colab": {
          "base_uri": "https://localhost:8080/"
        },
        "id": "DlCdRrtP6DQc",
        "outputId": "ca5ee55a-a3d6-4d1f-eb71-65a3f4f4a84e"
      },
      "execution_count": 6,
      "outputs": [
        {
          "output_type": "stream",
          "name": "stdout",
          "text": [
            "Correct entropy: 1.3862943611198906\n",
            "Manually simplified: 1.3862943611198906\n"
          ]
        }
      ]
    },
    {
      "cell_type": "code",
      "source": [
        "# now using pytorch\n",
        "import torch\n",
        "import torch.nn.functional as F\n",
        "\n",
        "# note: inputs must be Tensors\n",
        "q_tensor = torch.Tensor(q)\n",
        "p_tensor = torch.Tensor(p)\n",
        "\n",
        "F.binary_cross_entropy(q_tensor,p_tensor)"
      ],
      "metadata": {
        "colab": {
          "base_uri": "https://localhost:8080/"
        },
        "id": "Y5wxgrZD6eVF",
        "outputId": "17e6e55b-04b4-4fca-e343-a8563cfc3724"
      },
      "execution_count": 8,
      "outputs": [
        {
          "output_type": "execute_result",
          "data": {
            "text/plain": [
              "tensor(1.3863)"
            ]
          },
          "metadata": {},
          "execution_count": 8
        }
      ]
    }
  ]
}