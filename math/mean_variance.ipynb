{
  "nbformat": 4,
  "nbformat_minor": 0,
  "metadata": {
    "colab": {
      "provenance": [],
      "authorship_tag": "ABX9TyP5Ou/vtVBuRJPSSGybLk53"
    },
    "kernelspec": {
      "name": "python3",
      "display_name": "Python 3"
    },
    "language_info": {
      "name": "python"
    }
  },
  "cells": [
    {
      "cell_type": "code",
      "execution_count": 1,
      "metadata": {
        "id": "zzYvnPMI5fP0"
      },
      "outputs": [],
      "source": [
        "# import libraries\n",
        "import numpy as np"
      ]
    },
    {
      "cell_type": "code",
      "source": [
        "# create a list of numbers to compute the mean adn variance of\n",
        "x = [1,2,4,6,5,4,0]\n",
        "n = len(x)\n",
        "\n",
        "# compute the mean\n",
        "mean1 = np.mean(x)\n",
        "mean2 = np.sum(x) / n\n",
        "\n",
        "# print them\n",
        "print(mean1)\n",
        "print(mean2)"
      ],
      "metadata": {
        "colab": {
          "base_uri": "https://localhost:8080/"
        },
        "id": "r3Uj-6ZT5loi",
        "outputId": "cd647692-5a66-4e7e-890a-1f06134af53e"
      },
      "execution_count": 2,
      "outputs": [
        {
          "output_type": "stream",
          "name": "stdout",
          "text": [
            "3.142857142857143\n",
            "3.142857142857143\n"
          ]
        }
      ]
    },
    {
      "cell_type": "code",
      "source": [
        "# variance\n",
        "\n",
        "var1 = np.var(x)\n",
        "var2 = (1/(n-1)) * np.sum((x-mean1)**2)\n",
        "\n",
        "print(var1)\n",
        "print(var2)"
      ],
      "metadata": {
        "colab": {
          "base_uri": "https://localhost:8080/"
        },
        "id": "UjosoCXT6Axh",
        "outputId": "ec04a723-5a79-4e0f-804d-e35eae82497e"
      },
      "execution_count": 3,
      "outputs": [
        {
          "output_type": "stream",
          "name": "stdout",
          "text": [
            "4.122448979591836\n",
            "4.809523809523809\n"
          ]
        }
      ]
    },
    {
      "cell_type": "code",
      "source": [
        "# uh oh!\n",
        "var3 = np.var(x,ddof=1)\n",
        "\n",
        "print(var3)\n",
        "print(var2)"
      ],
      "metadata": {
        "colab": {
          "base_uri": "https://localhost:8080/"
        },
        "id": "BDJo8Ekx6Ysb",
        "outputId": "74faa0e9-fe87-4b7f-a498-204b1c255f48"
      },
      "execution_count": 4,
      "outputs": [
        {
          "output_type": "stream",
          "name": "stdout",
          "text": [
            "4.809523809523809\n",
            "4.809523809523809\n"
          ]
        }
      ]
    },
    {
      "cell_type": "code",
      "source": [
        "# does it matter for large N\n",
        "N = 10000\n",
        "x = np.random.randint(0, high=29,size=N)\n",
        "\n",
        "var0 = np.var(x, ddof=0) # default\n",
        "var1 = np.var(x, ddof=1) # unbiased\n",
        "\n",
        "print(var0)\n",
        "print(var1)"
      ],
      "metadata": {
        "colab": {
          "base_uri": "https://localhost:8080/"
        },
        "id": "hvykk0tF6mX2",
        "outputId": "a89df07a-0b08-4a0b-95b1-11111707b0ba"
      },
      "execution_count": 6,
      "outputs": [
        {
          "output_type": "stream",
          "name": "stdout",
          "text": [
            "69.837644\n",
            "69.84462846284627\n"
          ]
        }
      ]
    }
  ]
}