{
  "nbformat": 4,
  "nbformat_minor": 0,
  "metadata": {
    "colab": {
      "provenance": [],
      "authorship_tag": "ABX9TyNonrb7NHQ3Y8yRWZAh0WyD"
    },
    "kernelspec": {
      "name": "python3",
      "display_name": "Python 3"
    },
    "language_info": {
      "name": "python"
    }
  },
  "cells": [
    {
      "cell_type": "code",
      "execution_count": 1,
      "metadata": {
        "id": "xhwtrWCKzcY8"
      },
      "outputs": [],
      "source": [
        "# import libraries\n",
        "import numpy as np\n",
        "import torch"
      ]
    },
    {
      "cell_type": "markdown",
      "source": [
        "## Using numpy"
      ],
      "metadata": {
        "id": "dZmGI1qTzjCZ"
      }
    },
    {
      "cell_type": "code",
      "source": [
        "# create some random matrices\n",
        "A = np.random.randn(3,4)\n",
        "B = np.random.randn(4,5)\n",
        "C = np.random.randn(3,7)\n",
        "\n",
        "# try some multiplications...\n",
        "print(np.round(np.matmul(A, B),2)), print(' ')\n",
        "print(np.round(A@B, 2)), print(' ')\n",
        "# print(np.round(A@C, 2)), print(' ')\n",
        "# print(np.round(B@A, 2)), print(' ')\n",
        "print(np.round(C.T@A, 2))"
      ],
      "metadata": {
        "colab": {
          "base_uri": "https://localhost:8080/"
        },
        "id": "JP1jKdztznlb",
        "outputId": "1408d09b-e9a1-411a-a4c4-d74086367a15"
      },
      "execution_count": 14,
      "outputs": [
        {
          "output_type": "stream",
          "name": "stdout",
          "text": [
            "[[ 0.99 -0.34 -0.01  0.61  0.35]\n",
            " [ 3.11 -1.41 -1.29  1.8  -1.35]\n",
            " [ 0.51  1.02  1.49 -0.57  2.42]]\n",
            " \n",
            "[[ 0.99 -0.34 -0.01  0.61  0.35]\n",
            " [ 3.11 -1.41 -1.29  1.8  -1.35]\n",
            " [ 0.51  1.02  1.49 -0.57  2.42]]\n",
            " \n",
            "[[ 0.65 -2.3   0.34  1.31]\n",
            " [ 0.13 -0.53  0.01  0.25]\n",
            " [-1.22  1.43 -0.4  -1.82]\n",
            " [-0.54  1.33  0.42 -0.7 ]\n",
            " [-0.66  0.89 -0.66 -1.18]\n",
            " [-2.01  3.82  0.12 -2.96]\n",
            " [-0.1  -0.14 -0.39 -0.24]]\n"
          ]
        }
      ]
    },
    {
      "cell_type": "markdown",
      "source": [
        "## Using pytorch"
      ],
      "metadata": {
        "id": "5lkhere_0RTD"
      }
    },
    {
      "cell_type": "code",
      "source": [
        "# Create some random matrices\n",
        "A = torch.randn(3,4)\n",
        "B = torch.randn(4,5)\n",
        "C1 = np.random.randn(4,7)\n",
        "C2 = torch.tensor(C1, dtype=torch.float) # convert C1 to pytorch tensor\n",
        "\n",
        "# try some multiplications....\n",
        "# print(np.round(A@B, 2)), print(' ')\n",
        "# print(np.round(A@B.T, 2)), print(' ')\n",
        "print(np.round( A@C1, 2)), print(' ')\n",
        "print(np.round( A@C2, 2))"
      ],
      "metadata": {
        "colab": {
          "base_uri": "https://localhost:8080/"
        },
        "id": "ZDShpHi30WoG",
        "outputId": "8468c1eb-5fdd-4a51-a97b-bac2f7c9e7e2"
      },
      "execution_count": 17,
      "outputs": [
        {
          "output_type": "stream",
          "name": "stdout",
          "text": [
            "tensor([[ 1.4900,  1.3400,  0.6900,  0.2200, -0.4000, -1.5600, -0.0100],\n",
            "        [-2.3500, -0.9200,  0.3800,  1.3400, -1.0200, -1.3500,  3.3100],\n",
            "        [-2.0300,  0.7600, -0.8300, -1.2100,  1.2500,  0.2400, -1.7800]],\n",
            "       dtype=torch.float64)\n",
            " \n",
            "tensor([[ 1.4900,  1.3400,  0.6900,  0.2200, -0.4000, -1.5600, -0.0100],\n",
            "        [-2.3500, -0.9200,  0.3800,  1.3400, -1.0200, -1.3500,  3.3100],\n",
            "        [-2.0300,  0.7600, -0.8300, -1.2100,  1.2500,  0.2400, -1.7800]])\n"
          ]
        },
        {
          "output_type": "stream",
          "name": "stderr",
          "text": [
            "<ipython-input-17-5eaf8a9c6df4>:10: DeprecationWarning: __array_wrap__ must accept context and return_scalar arguments (positionally) in the future. (Deprecated NumPy 2.0)\n",
            "  print(np.round( A@C1, 2)), print(' ')\n"
          ]
        }
      ]
    }
  ]
}