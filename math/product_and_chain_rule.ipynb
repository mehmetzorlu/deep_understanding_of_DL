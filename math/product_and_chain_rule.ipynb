{
  "nbformat": 4,
  "nbformat_minor": 0,
  "metadata": {
    "colab": {
      "provenance": [],
      "authorship_tag": "ABX9TyOh8kmLQJ+MAYEeXAErqMvd"
    },
    "kernelspec": {
      "name": "python3",
      "display_name": "Python 3"
    },
    "language_info": {
      "name": "python"
    }
  },
  "cells": [
    {
      "cell_type": "code",
      "execution_count": 4,
      "metadata": {
        "id": "JMaA9NpwYGc-"
      },
      "outputs": [],
      "source": [
        "# import libraries\n",
        "import numpy as np\n",
        "import sympy as sym\n",
        "\n",
        "# make the equations look nices\n",
        "from IPython.display import display"
      ]
    },
    {
      "cell_type": "code",
      "source": [
        "# create symbolic variables in sympy\n",
        "x = sym.symbols('x')\n",
        "\n",
        "# create two functions\n",
        "fx = 2*x**2\n",
        "gx = 4*x**3 - 3*x**4\n",
        "\n",
        "# compute their individual derivatives\n",
        "df = sym.diff(fx)\n",
        "dg = sym.diff(gx)\n",
        "\n",
        "# apply the product rule \"manually\"\n",
        "manual = df*gx + fx*dg\n",
        "thewrongway = df*dg\n",
        "\n",
        "# via sympy\n",
        "viasympy = sym.diff(fx*gx)\n",
        "\n",
        "# print everything\n",
        "print('The functions:')\n",
        "display(fx)\n",
        "display(gx)\n",
        "print(' ')\n",
        "\n",
        "print('Manual product rule:')\n",
        "display(manual)\n",
        "print(' ')\n",
        "\n",
        "print('Via sympy:')\n",
        "print(viasympy)\n",
        "print(' ')\n",
        "\n",
        "print('The wrong way:')\n",
        "display(thewrongway)"
      ],
      "metadata": {
        "colab": {
          "base_uri": "https://localhost:8080/",
          "height": 241
        },
        "id": "18lj4QrJYYSF",
        "outputId": "d1b77eea-055c-4873-fbc6-f595056680e8"
      },
      "execution_count": 7,
      "outputs": [
        {
          "output_type": "stream",
          "name": "stdout",
          "text": [
            "The functions:\n"
          ]
        },
        {
          "output_type": "display_data",
          "data": {
            "text/plain": [
              "2*x**2"
            ],
            "text/latex": "$\\displaystyle 2 x^{2}$"
          },
          "metadata": {}
        },
        {
          "output_type": "display_data",
          "data": {
            "text/plain": [
              "-3*x**4 + 4*x**3"
            ],
            "text/latex": "$\\displaystyle - 3 x^{4} + 4 x^{3}$"
          },
          "metadata": {}
        },
        {
          "output_type": "stream",
          "name": "stdout",
          "text": [
            " \n",
            "Manual product rule:\n"
          ]
        },
        {
          "output_type": "display_data",
          "data": {
            "text/plain": [
              "2*x**2*(-12*x**3 + 12*x**2) + 4*x*(-3*x**4 + 4*x**3)"
            ],
            "text/latex": "$\\displaystyle 2 x^{2} \\left(- 12 x^{3} + 12 x^{2}\\right) + 4 x \\left(- 3 x^{4} + 4 x^{3}\\right)$"
          },
          "metadata": {}
        },
        {
          "output_type": "stream",
          "name": "stdout",
          "text": [
            " \n",
            "Via sympy:\n",
            "2*x**2*(-12*x**3 + 12*x**2) + 4*x*(-3*x**4 + 4*x**3)\n",
            " \n",
            "The wrong way:\n"
          ]
        },
        {
          "output_type": "display_data",
          "data": {
            "text/plain": [
              "4*x*(-12*x**3 + 12*x**2)"
            ],
            "text/latex": "$\\displaystyle 4 x \\left(- 12 x^{3} + 12 x^{2}\\right)$"
          },
          "metadata": {}
        }
      ]
    },
    {
      "cell_type": "code",
      "source": [
        "# repeat with chain rule\n",
        "gx = x**2 + 4*x**3\n",
        "fx = (gx)**5\n",
        "\n",
        "print('The function:')\n",
        "display(fx)\n",
        "print(' ')\n",
        "\n",
        "print('Its derivative:')\n",
        "display(sym.diff(fx))"
      ],
      "metadata": {
        "colab": {
          "base_uri": "https://localhost:8080/",
          "height": 118
        },
        "id": "8VJShqnQfEIK",
        "outputId": "e69e4aae-1acd-4575-8256-b0e086a3a5e2"
      },
      "execution_count": 8,
      "outputs": [
        {
          "output_type": "stream",
          "name": "stdout",
          "text": [
            "The function:\n"
          ]
        },
        {
          "output_type": "display_data",
          "data": {
            "text/plain": [
              "(4*x**3 + x**2)**5"
            ],
            "text/latex": "$\\displaystyle \\left(4 x^{3} + x^{2}\\right)^{5}$"
          },
          "metadata": {}
        },
        {
          "output_type": "stream",
          "name": "stdout",
          "text": [
            " \n",
            "Its derivative:\n"
          ]
        },
        {
          "output_type": "display_data",
          "data": {
            "text/plain": [
              "(60*x**2 + 10*x)*(4*x**3 + x**2)**4"
            ],
            "text/latex": "$\\displaystyle \\left(60 x^{2} + 10 x\\right) \\left(4 x^{3} + x^{2}\\right)^{4}$"
          },
          "metadata": {}
        }
      ]
    }
  ]
}