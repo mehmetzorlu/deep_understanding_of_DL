{
  "nbformat": 4,
  "nbformat_minor": 0,
  "metadata": {
    "colab": {
      "provenance": [],
      "authorship_tag": "ABX9TyMwO3plO9dQANYyfboF7M1S"
    },
    "kernelspec": {
      "name": "python3",
      "display_name": "Python 3"
    },
    "language_info": {
      "name": "python"
    }
  },
  "cells": [
    {
      "cell_type": "code",
      "execution_count": 1,
      "metadata": {
        "id": "_vy50iFyhQjW"
      },
      "outputs": [],
      "source": [
        "# import libraries\n",
        "import numpy as np\n",
        "import torch"
      ]
    },
    {
      "cell_type": "code",
      "source": [
        "# generate a few random numbers\n",
        "np.random.randn(5)"
      ],
      "metadata": {
        "colab": {
          "base_uri": "https://localhost:8080/"
        },
        "id": "DyrflUSmhZnQ",
        "outputId": "f8e6ed22-0c34-4adb-af09-5b1bdb477898"
      },
      "execution_count": 2,
      "outputs": [
        {
          "output_type": "execute_result",
          "data": {
            "text/plain": [
              "array([ 0.03697552, -0.92994678,  0.54005195, -1.38486819, -1.05217291])"
            ]
          },
          "metadata": {},
          "execution_count": 2
        }
      ]
    },
    {
      "cell_type": "code",
      "source": [
        "# repeat after fixing the seed (old-but-still-widely-used method)\n",
        "np.random.seed(17)\n",
        "print(np.random.randn(5))\n",
        "print(np.random.randn(5))\n",
        "\n",
        "# [ 0.27626589 -1.85462808  0.62390111  1.14531129  1.03719047]\n",
        "# [ 1.88663893 -0.11169829 -0.36210134  0.14867505 -0.43778315]"
      ],
      "metadata": {
        "colab": {
          "base_uri": "https://localhost:8080/"
        },
        "id": "5ds2gBWlhjK4",
        "outputId": "c91b0ca3-d241-478f-f617-aeaf51bb97ab"
      },
      "execution_count": 15,
      "outputs": [
        {
          "output_type": "stream",
          "name": "stdout",
          "text": [
            "[ 0.27626589 -1.85462808  0.62390111  1.14531129  1.03719047]\n",
            "[ 1.88663893 -0.11169829 -0.36210134  0.14867505 -0.43778315]\n"
          ]
        }
      ]
    },
    {
      "cell_type": "markdown",
      "source": [
        "## New seed mechanism in numpy"
      ],
      "metadata": {
        "id": "rIAtDxVhh_-7"
      }
    },
    {
      "cell_type": "code",
      "source": [
        "randseed1 = np.random.RandomState(17)\n",
        "randseed2 = np.random.RandomState(20210530)\n",
        "\n",
        "print(randseed1.randn(5)) # same sequence\n",
        "print(randseed2.randn(5)) # different from above, but same each time\n",
        "print(randseed1.randn(5)) # same as two up\n",
        "print(randseed2.randn(5)) # same as two up\n",
        "print(np.random.randn(5)) # different every time\n",
        "\n",
        "# [ 0.27626589 -1.85462808  0.62390111  1.14531129  1.03719047]\n",
        "# [-0.24972681 -1.01951826  2.23461339  0.72764703  1.2921122 ]\n",
        "# [ 1.88663893 -0.11169829 -0.36210134  0.14867505 -0.43778315]\n",
        "# [ 1.15494929 -0.0015467  -0.11196868 -1.08136725  0.10265891]\n",
        "# [ 2.171257    1.15231025 -1.81881234 -0.13804934  0.53983961]"
      ],
      "metadata": {
        "colab": {
          "base_uri": "https://localhost:8080/"
        },
        "id": "EJ-augwniFlI",
        "outputId": "1e3dde2a-3273-49a5-9217-9ad85737d010"
      },
      "execution_count": 16,
      "outputs": [
        {
          "output_type": "stream",
          "name": "stdout",
          "text": [
            "[ 0.27626589 -1.85462808  0.62390111  1.14531129  1.03719047]\n",
            "[-0.24972681 -1.01951826  2.23461339  0.72764703  1.2921122 ]\n",
            "[ 1.88663893 -0.11169829 -0.36210134  0.14867505 -0.43778315]\n",
            "[ 1.15494929 -0.0015467  -0.11196868 -1.08136725  0.10265891]\n",
            "[ 2.171257    1.15231025 -1.81881234 -0.13804934  0.53983961]\n"
          ]
        }
      ]
    },
    {
      "cell_type": "markdown",
      "source": [
        "## Now in pytorch"
      ],
      "metadata": {
        "id": "sKcr20YKjO0W"
      }
    },
    {
      "cell_type": "code",
      "source": [
        "torch.randn(5)"
      ],
      "metadata": {
        "colab": {
          "base_uri": "https://localhost:8080/"
        },
        "id": "ob7WFYY1jRN3",
        "outputId": "16bd9a07-6494-445c-cb87-245762ab7aa0"
      },
      "execution_count": 9,
      "outputs": [
        {
          "output_type": "execute_result",
          "data": {
            "text/plain": [
              "tensor([-0.0746, -0.0296, -0.1693, -0.5159,  1.4466])"
            ]
          },
          "metadata": {},
          "execution_count": 9
        }
      ]
    },
    {
      "cell_type": "code",
      "source": [
        "torch.manual_seed(17)\n",
        "print(torch.randn(5))\n",
        "\n",
        "# torch's seed doesn't spread to numpy\n",
        "print(np.random.randn(5))\n",
        "\n",
        "# first line is the same, second changes every time\n",
        "# tensor([-1.4135,  0.2336,  0.0340,  0.3499, -0.0145])\n",
        "# [ 0.13126776 -1.21256024  0.15999085 -0.75522304  0.34989599]"
      ],
      "metadata": {
        "colab": {
          "base_uri": "https://localhost:8080/"
        },
        "id": "7t_G72tJjVDf",
        "outputId": "464c3d58-44df-4fa7-f467-d4859104bcf2"
      },
      "execution_count": 19,
      "outputs": [
        {
          "output_type": "stream",
          "name": "stdout",
          "text": [
            "tensor([-1.4135,  0.2336,  0.0340,  0.3499, -0.0145])\n",
            "[ 0.13126776 -1.21256024  0.15999085 -0.75522304  0.34989599]\n"
          ]
        }
      ]
    }
  ]
}