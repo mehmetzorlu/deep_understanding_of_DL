{
  "nbformat": 4,
  "nbformat_minor": 0,
  "metadata": {
    "colab": {
      "provenance": [],
      "authorship_tag": "ABX9TyOlOWtA2LCAXunMdlbG2g2Y"
    },
    "kernelspec": {
      "name": "python3",
      "display_name": "Python 3"
    },
    "language_info": {
      "name": "python"
    }
  },
  "cells": [
    {
      "cell_type": "code",
      "execution_count": 1,
      "metadata": {
        "id": "2K2TLYuTnqKO"
      },
      "outputs": [],
      "source": [
        "# import libraries\n",
        "import numpy as np\n",
        "from sklearn.model_selection import train_test_split"
      ]
    },
    {
      "cell_type": "code",
      "source": [
        "### create fake dataset (same as in previous videos)\n",
        "fakedata = np.tile(np.array([1,2,3,4]),(10,1)) + np.tile(10*np.arange(1,11),(4,1)).T\n",
        "fakelabels = np.arange(10)>4\n",
        "print(fakedata), print(' ')\n",
        "print(fakelabels)"
      ],
      "metadata": {
        "colab": {
          "base_uri": "https://localhost:8080/"
        },
        "id": "L2kohqjAn9pB",
        "outputId": "055e7ef5-efc2-4b90-cf46-c4ad33d6702d"
      },
      "execution_count": 5,
      "outputs": [
        {
          "output_type": "stream",
          "name": "stdout",
          "text": [
            "[[ 11  12  13  14]\n",
            " [ 21  22  23  24]\n",
            " [ 31  32  33  34]\n",
            " [ 41  42  43  44]\n",
            " [ 51  52  53  54]\n",
            " [ 61  62  63  64]\n",
            " [ 71  72  73  74]\n",
            " [ 81  82  83  84]\n",
            " [ 91  92  93  94]\n",
            " [101 102 103 104]]\n",
            " \n",
            "[False False False False False  True  True  True  True  True]\n"
          ]
        }
      ]
    },
    {
      "cell_type": "markdown",
      "source": [
        "## Using train_test_split"
      ],
      "metadata": {
        "id": "rgHnwjTGoADN"
      }
    },
    {
      "cell_type": "code",
      "source": [
        "# specify sizes of the partitions\n",
        "# order is train,devset,test\n",
        "partitions = [.8,.1,.1]\n",
        "\n",
        "# split the data (note the third input, and the TMP in the variable name)\n",
        "train_data,testTMP_data, train_labels,testTMP_labels = \\\n",
        "                   train_test_split(fakedata, fakelabels, train_size=partitions[0])\n",
        "\n",
        "# now split the TMP data\n",
        "split = partitions[1] / np.sum(partitions[1:])\n",
        "devset_data,test_data, devset_labels,test_labels = \\\n",
        "              train_test_split(testTMP_data, testTMP_labels, train_size=split)\n",
        "\n",
        "# print out the sizes\n",
        "print('Training data size: ' + str(train_data.shape))\n",
        "print('Devset data size: '   + str(devset_data.shape))\n",
        "print('Test data size: '     + str(test_data.shape))\n",
        "print(' ')\n",
        "\n",
        "# print out the train/test data\n",
        "print('Training data: ')\n",
        "print(train_data)\n",
        "print(' ')\n",
        "\n",
        "print('Devset data: ')\n",
        "print(devset_data)\n",
        "print(' ')\n",
        "\n",
        "print('Test data: ')\n",
        "print(test_data)"
      ],
      "metadata": {
        "colab": {
          "base_uri": "https://localhost:8080/"
        },
        "id": "3J4hxRb6oENY",
        "outputId": "4e9bf57a-3c37-4460-d3bf-ad1d63ed2000"
      },
      "execution_count": 12,
      "outputs": [
        {
          "output_type": "stream",
          "name": "stdout",
          "text": [
            "Training data size: (8, 4)\n",
            "Devset data size: (1, 4)\n",
            "Test data size: (1, 4)\n",
            " \n",
            "Training data: \n",
            "[[101 102 103 104]\n",
            " [ 81  82  83  84]\n",
            " [ 61  62  63  64]\n",
            " [ 31  32  33  34]\n",
            " [ 11  12  13  14]\n",
            " [ 51  52  53  54]\n",
            " [ 71  72  73  74]\n",
            " [ 41  42  43  44]]\n",
            " \n",
            "Devset data: \n",
            "[[91 92 93 94]]\n",
            " \n",
            "Test data: \n",
            "[[21 22 23 24]]\n"
          ]
        }
      ]
    },
    {
      "cell_type": "markdown",
      "source": [
        "## Splitting the data manually using numpy"
      ],
      "metadata": {
        "id": "ysn1wbowolok"
      }
    },
    {
      "cell_type": "code",
      "source": [
        "# partition sizes in proportion\n",
        "partitions = np.array([.8,.1,.1])\n",
        "print('Partition proportions:')\n",
        "print(partitions)\n",
        "print(' ')\n",
        "\n",
        "# convert those into integers\n",
        "partitionBnd = np.cumsum(partitions*len(fakelabels)).astype(int)\n",
        "print('Partition boundaries:')\n",
        "print(partitionBnd)\n",
        "print(' ')\n",
        "\n",
        "# random indices\n",
        "randindices = np.random.permutation(range(len(fakelabels)))\n",
        "print('Randomized data indices:')\n",
        "print(randindices)\n",
        "print(' ')"
      ],
      "metadata": {
        "colab": {
          "base_uri": "https://localhost:8080/"
        },
        "id": "wzNgLX5ioqbW",
        "outputId": "458cf9bc-059f-481f-96ce-2fea20f6ea2e"
      },
      "execution_count": 9,
      "outputs": [
        {
          "output_type": "stream",
          "name": "stdout",
          "text": [
            "Partition proportions:\n",
            "[0.8 0.1 0.1]\n",
            " \n",
            "Partition boundaries:\n",
            "[ 8  9 10]\n",
            " \n",
            "Randomized data indices:\n",
            "[7 4 6 5 1 3 0 8 2 9]\n",
            " \n"
          ]
        }
      ]
    },
    {
      "cell_type": "code",
      "source": [
        "# select rows for the training data\n",
        "train_dataN   = fakedata[randindices[:partitionBnd[0]],:]\n",
        "train_labelsN = fakelabels[randindices[:partitionBnd[0]]]\n",
        "\n",
        "# select rows for the devset data\n",
        "devset_dataN   = fakedata[randindices[partitionBnd[0]:partitionBnd[1]],:]\n",
        "devset_labelsN = fakelabels[randindices[partitionBnd[0]:partitionBnd[1]]]\n",
        "\n",
        "# select rows for the test data\n",
        "test_dataN   = fakedata[randindices[partitionBnd[1]:],:]\n",
        "test_labelsN = fakelabels[randindices[partitionBnd[1]:]]"
      ],
      "metadata": {
        "id": "5SAqUIzoos6X"
      },
      "execution_count": 10,
      "outputs": []
    },
    {
      "cell_type": "code",
      "source": [
        "# print out the sizes\n",
        "print('Training data size: ' + str(train_dataN.shape))\n",
        "print('Devset size: '        + str(devset_dataN.shape))\n",
        "print('Test data size: '     + str(test_dataN.shape))\n",
        "print(' ')\n",
        "\n",
        "# print out the train/test data\n",
        "print('Training data: ')\n",
        "print(train_dataN)\n",
        "print(' ')\n",
        "\n",
        "print('Devset data: ')\n",
        "print(devset_dataN)\n",
        "print(' ')\n",
        "\n",
        "print('Test data: ')\n",
        "print(test_dataN)"
      ],
      "metadata": {
        "colab": {
          "base_uri": "https://localhost:8080/"
        },
        "id": "nWBfch_-ouqo",
        "outputId": "3b93fce8-2a2f-4043-90ea-c74e31d3d151"
      },
      "execution_count": 11,
      "outputs": [
        {
          "output_type": "stream",
          "name": "stdout",
          "text": [
            "Training data size: (8, 4)\n",
            "Devset size: (1, 4)\n",
            "Test data size: (1, 4)\n",
            " \n",
            "Training data: \n",
            "[[81 82 83 84]\n",
            " [51 52 53 54]\n",
            " [71 72 73 74]\n",
            " [61 62 63 64]\n",
            " [21 22 23 24]\n",
            " [41 42 43 44]\n",
            " [11 12 13 14]\n",
            " [91 92 93 94]]\n",
            " \n",
            "Devset data: \n",
            "[[31 32 33 34]]\n",
            " \n",
            "Test data: \n",
            "[[101 102 103 104]]\n"
          ]
        }
      ]
    }
  ]
}