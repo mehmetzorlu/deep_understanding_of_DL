{
  "nbformat": 4,
  "nbformat_minor": 0,
  "metadata": {
    "colab": {
      "provenance": [],
      "authorship_tag": "ABX9TyNddS+CEMZVE0DuSghdOT9D"
    },
    "kernelspec": {
      "name": "python3",
      "display_name": "Python 3"
    },
    "language_info": {
      "name": "python"
    }
  },
  "cells": [
    {
      "cell_type": "code",
      "execution_count": 1,
      "metadata": {
        "id": "JW4BioiF8Xvq"
      },
      "outputs": [],
      "source": [
        "# import libraries\n",
        "import torch\n",
        "import torch.nn as nn\n",
        "import numpy as np"
      ]
    },
    {
      "cell_type": "code",
      "source": [
        "# import dataset\n",
        "import pandas as pd\n",
        "iris = pd.read_csv('https://raw.githubusercontent.com/mwaskom/seaborn-data/master/iris.csv')\n",
        "\n",
        "# convert from pandas dataframe to tensor\n",
        "data = torch.tensor(iris[iris.columns[0:4]].values).float()\n",
        "\n",
        "# transform species to number\n",
        "labels = torch.zeros(len(data), dtype=torch.long)\n",
        "# labels[iris.species=='setosa'] = 0 # don't need!\n",
        "labels[iris.species=='versicolor'] = 1\n",
        "labels[iris.species=='virginica'] = 2"
      ],
      "metadata": {
        "id": "RUTiXTXk8eDq"
      },
      "execution_count": 3,
      "outputs": []
    },
    {
      "cell_type": "markdown",
      "source": [
        "## Separate data into train and test"
      ],
      "metadata": {
        "id": "EOVCCGcg8sDB"
      }
    },
    {
      "cell_type": "code",
      "source": [
        "#  (no devset here)\n",
        "\n",
        "# how many training examples\n",
        "propTraining = .8 # in proportion, not percent\n",
        "nTraining = int(len(labels)*propTraining)\n",
        "\n",
        "# initialize a boolean vector to select data and labels\n",
        "traintestBool = np.zeros(len(labels),dtype=bool)\n",
        "\n",
        "# is this the correct way to select samples?\n",
        "# traintestBool[range(nTraining)] = True\n",
        "\n",
        "# this is better, but why?\n",
        "items2use4train = np.random.choice(range(len(labels)),nTraining,replace=False)\n",
        "traintestBool[items2use4train] = True\n",
        "\n",
        "traintestBool"
      ],
      "metadata": {
        "colab": {
          "base_uri": "https://localhost:8080/"
        },
        "id": "EC8-h4Xl9z0S",
        "outputId": "fce94773-d8d9-47e9-c425-ed93875d39c7"
      },
      "execution_count": 4,
      "outputs": [
        {
          "output_type": "execute_result",
          "data": {
            "text/plain": [
              "array([ True,  True,  True,  True,  True,  True, False,  True,  True,\n",
              "        True,  True,  True,  True,  True,  True,  True,  True,  True,\n",
              "       False, False,  True,  True, False,  True,  True,  True,  True,\n",
              "        True,  True, False,  True,  True,  True, False,  True, False,\n",
              "        True,  True,  True,  True,  True,  True,  True,  True, False,\n",
              "       False,  True,  True,  True,  True,  True,  True,  True,  True,\n",
              "       False,  True, False, False,  True, False,  True,  True,  True,\n",
              "       False,  True,  True,  True,  True,  True,  True,  True,  True,\n",
              "        True,  True,  True,  True, False, False,  True,  True,  True,\n",
              "        True,  True,  True, False,  True,  True,  True, False,  True,\n",
              "        True,  True, False,  True, False,  True,  True,  True,  True,\n",
              "        True,  True,  True,  True,  True,  True, False,  True,  True,\n",
              "        True,  True, False,  True,  True, False, False, False,  True,\n",
              "        True, False,  True,  True, False,  True,  True,  True,  True,\n",
              "        True,  True,  True,  True,  True,  True,  True,  True,  True,\n",
              "        True,  True,  True,  True,  True,  True,  True,  True,  True,\n",
              "       False,  True,  True, False,  True, False])"
            ]
          },
          "metadata": {},
          "execution_count": 4
        }
      ]
    },
    {
      "cell_type": "code",
      "source": [
        "print(len(items2use4train))\n",
        "items2use4train"
      ],
      "metadata": {
        "colab": {
          "base_uri": "https://localhost:8080/"
        },
        "id": "9dg5YNxzBoBv",
        "outputId": "1c38050b-5218-4ea8-9576-88b88d7c7422"
      },
      "execution_count": 14,
      "outputs": [
        {
          "output_type": "stream",
          "name": "stdout",
          "text": [
            "120\n"
          ]
        },
        {
          "output_type": "execute_result",
          "data": {
            "text/plain": [
              "array([138,  12, 100,  55,  81,  40,  17,  69,  23,   9,  13, 117, 135,\n",
              "       107,  46,  21,  67,  34, 126,  80,  73,  39, 139, 136,  15,  79,\n",
              "         8,  47,  91, 129,  52, 133, 124,  78, 106, 128,   7,  93,  41,\n",
              "        42,  28, 109,  30, 120, 137,  60,  89,   2,  32,  16,  74,  31,\n",
              "        10,  82,  24,  48,  43,  53,  37,   4,  95, 142,  83, 103, 101,\n",
              "       111,  64,  11, 130, 102,  51,  62,  66, 116,  26,  58,  72,  27,\n",
              "        38,   5, 108, 127,  25, 104, 148,  85, 131,   1, 132, 143,  20,\n",
              "        90,  70,   3,  98, 140, 119, 112,  97,  87,  99,  68,  96, 146,\n",
              "        49,  71, 145,  86,  14, 141,   0,  61, 122, 123,  50, 125,  36,\n",
              "        75, 134,  65])"
            ]
          },
          "metadata": {},
          "execution_count": 14
        }
      ]
    },
    {
      "cell_type": "code",
      "source": [
        "# test whether it's balanced\n",
        "print('Average of full data:')\n",
        "print( torch.mean(labels.float()) ) # =1 by definition\n",
        "print(' ')\n",
        "\n",
        "print('Average of training data:')\n",
        "print( torch.mean(labels[traintestBool].float()) ) # should be 1...\n",
        "print(' ')\n",
        "\n",
        "print('Average of test data:')\n",
        "print( torch.mean(labels[~traintestBool].float()) ) # should also be 1..."
      ],
      "metadata": {
        "colab": {
          "base_uri": "https://localhost:8080/"
        },
        "id": "S4VUqiuM--CE",
        "outputId": "09e8abf1-4c80-4e62-85e5-b0666582ab8d"
      },
      "execution_count": 5,
      "outputs": [
        {
          "output_type": "stream",
          "name": "stdout",
          "text": [
            "Average of full data:\n",
            "tensor(1.)\n",
            " \n",
            "Average of training data:\n",
            "tensor(0.9917)\n",
            " \n",
            "Average of test data:\n",
            "tensor(1.0333)\n"
          ]
        }
      ]
    },
    {
      "cell_type": "code",
      "source": [
        "# create the ANN model\n",
        "\n",
        "# model architecture\n",
        "ANNiris = nn.Sequential(\n",
        "    nn.Linear(4,64),   # input layer\n",
        "    nn.ReLU(),         # activation unit\n",
        "    nn.Linear(64,64),  # hidden layer\n",
        "    nn.ReLU(),         # activation unit\n",
        "    nn.Linear(64,3),   # output units\n",
        "      )\n",
        "\n",
        "# loss function\n",
        "lossfun = nn.CrossEntropyLoss()\n",
        "\n",
        "# optimizer\n",
        "optimizer = torch.optim.SGD(ANNiris.parameters(),lr=.01)"
      ],
      "metadata": {
        "id": "XU8bDrsu_Kxh"
      },
      "execution_count": 6,
      "outputs": []
    },
    {
      "cell_type": "code",
      "source": [
        "# entire dataset\n",
        "print(data.shape)\n",
        "\n",
        "# training set\n",
        "print(data[traintestBool,:].shape)\n",
        "\n",
        "# test set\n",
        "print(data[~traintestBool,:].shape)"
      ],
      "metadata": {
        "colab": {
          "base_uri": "https://localhost:8080/"
        },
        "id": "gwcYL8GV_Npz",
        "outputId": "a7ca0eee-bc91-4f02-c8b1-85d4c445586b"
      },
      "execution_count": 7,
      "outputs": [
        {
          "output_type": "stream",
          "name": "stdout",
          "text": [
            "torch.Size([150, 4])\n",
            "torch.Size([120, 4])\n",
            "torch.Size([30, 4])\n"
          ]
        }
      ]
    },
    {
      "cell_type": "markdown",
      "source": [
        "## Train and test the model"
      ],
      "metadata": {
        "id": "fZEQ4--W_Z0t"
      }
    },
    {
      "cell_type": "code",
      "source": [
        "# train the model\n",
        "numepochs = 1000\n",
        "\n",
        "# initialize losses\n",
        "losses = torch.zeros(numepochs)\n",
        "ongoingAcc = []\n",
        "\n",
        "# loop over epochs\n",
        "for epochi in range(numepochs):\n",
        "\n",
        "  # forward pass\n",
        "  yHat = ANNiris(data[traintestBool,:])\n",
        "\n",
        "  # compute accuracy (note: denser than previous code!)\n",
        "  ongoingAcc.append(100*torch.mean(\n",
        "              (torch.argmax(yHat,axis=1) == labels[traintestBool]).float()))\n",
        "\n",
        "  # compute loss\n",
        "  loss = lossfun(yHat,labels[traintestBool])\n",
        "  losses[epochi] = loss\n",
        "\n",
        "  # backprop\n",
        "  optimizer.zero_grad()\n",
        "  loss.backward()\n",
        "  optimizer.step()"
      ],
      "metadata": {
        "id": "pnQHuPOz_dRr"
      },
      "execution_count": 8,
      "outputs": []
    },
    {
      "cell_type": "code",
      "source": [
        "labels[traintestBool]"
      ],
      "metadata": {
        "colab": {
          "base_uri": "https://localhost:8080/"
        },
        "id": "QXG_FnFKChEF",
        "outputId": "b3e8d22b-987e-458d-d0bc-96e19d59e70e"
      },
      "execution_count": 15,
      "outputs": [
        {
          "output_type": "execute_result",
          "data": {
            "text/plain": [
              "tensor([0, 0, 0, 0, 0, 0, 0, 0, 0, 0, 0, 0, 0, 0, 0, 0, 0, 0, 0, 0, 0, 0, 0, 0,\n",
              "        0, 0, 0, 0, 0, 0, 0, 0, 0, 0, 0, 0, 0, 0, 0, 0, 0, 1, 1, 1, 1, 1, 1, 1,\n",
              "        1, 1, 1, 1, 1, 1, 1, 1, 1, 1, 1, 1, 1, 1, 1, 1, 1, 1, 1, 1, 1, 1, 1, 1,\n",
              "        1, 1, 1, 1, 1, 1, 1, 1, 2, 2, 2, 2, 2, 2, 2, 2, 2, 2, 2, 2, 2, 2, 2, 2,\n",
              "        2, 2, 2, 2, 2, 2, 2, 2, 2, 2, 2, 2, 2, 2, 2, 2, 2, 2, 2, 2, 2, 2, 2, 2])"
            ]
          },
          "metadata": {},
          "execution_count": 15
        }
      ]
    },
    {
      "cell_type": "code",
      "source": [
        "# compute train and test accuracies\n",
        "\n",
        "# final forward pass USING TRAINING DATA\n",
        "predictions = ANNiris(data[traintestBool,:])\n",
        "trainacc = 100*torch.mean((torch.argmax(predictions,axis=1) == labels[traintestBool]).float())\n",
        "\n",
        "# final forward pass USING TEST DATA!\n",
        "predictions = ANNiris(data[~traintestBool,:])\n",
        "testacc = 100*torch.mean((torch.argmax(predictions,axis=1) == labels[~traintestBool]).float())"
      ],
      "metadata": {
        "id": "qCRtsdna_lUe"
      },
      "execution_count": 9,
      "outputs": []
    },
    {
      "cell_type": "code",
      "source": [
        "# report accuracies\n",
        "print('Final TRAIN accuracy: %g%%' %trainacc)\n",
        "print('Final TEST accuracy:  %g%%' %testacc)"
      ],
      "metadata": {
        "colab": {
          "base_uri": "https://localhost:8080/"
        },
        "id": "3WyFLXTw_qFz",
        "outputId": "4faf5bb5-0b87-431d-ed1f-453555738d88"
      },
      "execution_count": 10,
      "outputs": [
        {
          "output_type": "stream",
          "name": "stdout",
          "text": [
            "Final TRAIN accuracy: 97.5%\n",
            "Final TEST accuracy:  100%\n"
          ]
        }
      ]
    }
  ]
}