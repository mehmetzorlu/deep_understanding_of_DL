{
  "nbformat": 4,
  "nbformat_minor": 0,
  "metadata": {
    "colab": {
      "provenance": [],
      "authorship_tag": "ABX9TyPN/2lKJ7tmMUSoKl3N4JXE"
    },
    "kernelspec": {
      "name": "python3",
      "display_name": "Python 3"
    },
    "language_info": {
      "name": "python"
    }
  },
  "cells": [
    {
      "cell_type": "code",
      "execution_count": 1,
      "metadata": {
        "id": "s7QpHHcAT4VK"
      },
      "outputs": [],
      "source": [
        "# import libraries\n",
        "import numpy as np\n",
        "import torch\n",
        "import torch.nn as nn"
      ]
    },
    {
      "cell_type": "code",
      "source": [
        "# build two models\n",
        "\n",
        "widenet = nn.Sequential(\n",
        "    nn.Linear(2,4),  # hidden layer\n",
        "    nn.Linear(4,3),  # output layer\n",
        "    )\n",
        "\n",
        "deepnet = nn.Sequential(\n",
        "    nn.Linear(2,2),  # hidden layer\n",
        "    nn.Linear(2,2),  # hidden layer\n",
        "    nn.Linear(2,3),  # output layer\n",
        "    )\n",
        "\n",
        "# print them out to have a look\n",
        "print(widenet)\n",
        "print(' ')\n",
        "print(deepnet)"
      ],
      "metadata": {
        "colab": {
          "base_uri": "https://localhost:8080/"
        },
        "id": "DZe61nIOT8-Q",
        "outputId": "db4808b0-74ea-483e-cc28-048fab7a053e"
      },
      "execution_count": 2,
      "outputs": [
        {
          "output_type": "stream",
          "name": "stdout",
          "text": [
            "Sequential(\n",
            "  (0): Linear(in_features=2, out_features=4, bias=True)\n",
            "  (1): Linear(in_features=4, out_features=3, bias=True)\n",
            ")\n",
            " \n",
            "Sequential(\n",
            "  (0): Linear(in_features=2, out_features=2, bias=True)\n",
            "  (1): Linear(in_features=2, out_features=2, bias=True)\n",
            "  (2): Linear(in_features=2, out_features=3, bias=True)\n",
            ")\n"
          ]
        }
      ]
    },
    {
      "cell_type": "code",
      "source": [
        "widenet"
      ],
      "metadata": {
        "colab": {
          "base_uri": "https://localhost:8080/"
        },
        "id": "ryQxudO9UEVu",
        "outputId": "429a438e-15a1-4efb-d9e0-605866d50b63"
      },
      "execution_count": 3,
      "outputs": [
        {
          "output_type": "execute_result",
          "data": {
            "text/plain": [
              "Sequential(\n",
              "  (0): Linear(in_features=2, out_features=4, bias=True)\n",
              "  (1): Linear(in_features=4, out_features=3, bias=True)\n",
              ")"
            ]
          },
          "metadata": {},
          "execution_count": 3
        }
      ]
    },
    {
      "cell_type": "markdown",
      "source": [
        "## Peeking inside the network"
      ],
      "metadata": {
        "id": "lN5IpSe9UGps"
      }
    },
    {
      "cell_type": "code",
      "source": [
        "# check out the parameters\n",
        "for p in deepnet.named_parameters():\n",
        "  print(p)\n",
        "  print(' ')"
      ],
      "metadata": {
        "colab": {
          "base_uri": "https://localhost:8080/"
        },
        "id": "A0brHQ6JUK7c",
        "outputId": "b03bcf2b-06a1-4c9e-bbb6-347fd96be9cf"
      },
      "execution_count": 13,
      "outputs": [
        {
          "output_type": "stream",
          "name": "stdout",
          "text": [
            "('0.weight', Parameter containing:\n",
            "tensor([[ 0.0574, -0.0095],\n",
            "        [-0.0127, -0.6227]], requires_grad=True))\n",
            " \n",
            "('0.bias', Parameter containing:\n",
            "tensor([-0.1509,  0.4511], requires_grad=True))\n",
            " \n",
            "('1.weight', Parameter containing:\n",
            "tensor([[-0.0888,  0.3321],\n",
            "        [-0.6020, -0.2909]], requires_grad=True))\n",
            " \n",
            "('1.bias', Parameter containing:\n",
            "tensor([-0.4418,  0.2142], requires_grad=True))\n",
            " \n",
            "('2.weight', Parameter containing:\n",
            "tensor([[ 0.3140, -0.2682],\n",
            "        [-0.2180, -0.6586],\n",
            "        [ 0.4578,  0.1905]], requires_grad=True))\n",
            " \n",
            "('2.bias', Parameter containing:\n",
            "tensor([-0.4277,  0.2184,  0.0391], requires_grad=True))\n",
            " \n"
          ]
        }
      ]
    },
    {
      "cell_type": "code",
      "source": [
        "# count the number of nodes ( = the number of biases)\n",
        "\n",
        "# named_parameters() is an iterable that returns the tuple (name,numbers)\n",
        "numNodesInWide = 0\n",
        "for p in widenet.named_parameters():\n",
        "  if 'bias' in p[0]:\n",
        "    numNodesInWide += len(p[1])\n",
        "\n",
        "numNodesInDeep = 0\n",
        "for paramName,paramVect in deepnet.named_parameters():\n",
        "  if 'bias' in paramName:\n",
        "    numNodesInDeep += len(paramVect)\n",
        "\n",
        "\n",
        "print('There are %s nodes in the wide network.' %numNodesInWide)\n",
        "print('There are %s nodes in the deep network.' %numNodesInDeep)"
      ],
      "metadata": {
        "colab": {
          "base_uri": "https://localhost:8080/"
        },
        "id": "JnTCqSiyUiAf",
        "outputId": "7e3c2c4e-3517-4c63-83b8-e85392069b5c"
      },
      "execution_count": 5,
      "outputs": [
        {
          "output_type": "stream",
          "name": "stdout",
          "text": [
            "There are 7 nodes in the wide network.\n",
            "There are 7 nodes in the deep network.\n"
          ]
        }
      ]
    },
    {
      "cell_type": "code",
      "source": [
        "# just the parameters\n",
        "for p in widenet.parameters():\n",
        "  print(p)\n",
        "  print(' ')"
      ],
      "metadata": {
        "colab": {
          "base_uri": "https://localhost:8080/"
        },
        "id": "WuQgEt86UsP9",
        "outputId": "811e2092-ad98-4898-db80-a9b358fadecd"
      },
      "execution_count": 6,
      "outputs": [
        {
          "output_type": "stream",
          "name": "stdout",
          "text": [
            "Parameter containing:\n",
            "tensor([[-0.5484, -0.0437],\n",
            "        [ 0.1025,  0.2314],\n",
            "        [ 0.1780, -0.0782],\n",
            "        [ 0.1030, -0.3185]], requires_grad=True)\n",
            " \n",
            "Parameter containing:\n",
            "tensor([ 0.3590, -0.3767, -0.3813, -0.1572], requires_grad=True)\n",
            " \n",
            "Parameter containing:\n",
            "tensor([[ 0.3901,  0.3908,  0.1513,  0.1815],\n",
            "        [ 0.2619,  0.1064, -0.0829, -0.3824],\n",
            "        [ 0.2812,  0.3141, -0.0186,  0.1706]], requires_grad=True)\n",
            " \n",
            "Parameter containing:\n",
            "tensor([-0.3676,  0.3150,  0.2750], requires_grad=True)\n",
            " \n"
          ]
        }
      ]
    },
    {
      "cell_type": "code",
      "source": [
        "# now count the total number of trainable parameters\n",
        "nparams = 0\n",
        "for p in widenet.parameters():\n",
        "  if p.requires_grad:\n",
        "    print('This piece has %s parameters' %p.numel())\n",
        "    nparams += p.numel()\n",
        "\n",
        "print('\\n\\nTotal of %s parameters'%nparams)"
      ],
      "metadata": {
        "colab": {
          "base_uri": "https://localhost:8080/"
        },
        "id": "XMVwu2ByUzuh",
        "outputId": "9c70e112-67d9-4c68-c9a6-6b22c64526c6"
      },
      "execution_count": 7,
      "outputs": [
        {
          "output_type": "stream",
          "name": "stdout",
          "text": [
            "This piece has 8 parameters\n",
            "This piece has 4 parameters\n",
            "This piece has 12 parameters\n",
            "This piece has 3 parameters\n",
            "\n",
            "\n",
            "Total of 27 parameters\n"
          ]
        }
      ]
    },
    {
      "cell_type": "code",
      "source": [
        "# btw, can also use list comprehension\n",
        "\n",
        "nparams = np.sum([ p.numel() for p in widenet.parameters() if p.requires_grad ])\n",
        "print('Widenet has %s parameters'%nparams)\n",
        "\n",
        "nparams = np.sum([ p.numel() for p in deepnet.parameters() if p.requires_grad ])\n",
        "print('Deepnet has %s parameters'%nparams)"
      ],
      "metadata": {
        "colab": {
          "base_uri": "https://localhost:8080/"
        },
        "id": "-z8ZxKPvU3Z2",
        "outputId": "d3a0f91d-3552-4076-ec10-c124ab82bc0e"
      },
      "execution_count": 8,
      "outputs": [
        {
          "output_type": "stream",
          "name": "stdout",
          "text": [
            "Widenet has 27 parameters\n",
            "Deepnet has 21 parameters\n"
          ]
        }
      ]
    },
    {
      "cell_type": "code",
      "source": [
        "# A nice simple way to print out the model info.\n",
        "from torchsummary import summary\n",
        "summary(widenet,(1,2))"
      ],
      "metadata": {
        "colab": {
          "base_uri": "https://localhost:8080/"
        },
        "id": "z_AH_5GRU6Yl",
        "outputId": "512dbf4f-3717-4c41-ed8e-cefb1f6f54c5"
      },
      "execution_count": 9,
      "outputs": [
        {
          "output_type": "stream",
          "name": "stdout",
          "text": [
            "----------------------------------------------------------------\n",
            "        Layer (type)               Output Shape         Param #\n",
            "================================================================\n",
            "            Linear-1                 [-1, 1, 4]              12\n",
            "            Linear-2                 [-1, 1, 3]              15\n",
            "================================================================\n",
            "Total params: 27\n",
            "Trainable params: 27\n",
            "Non-trainable params: 0\n",
            "----------------------------------------------------------------\n",
            "Input size (MB): 0.00\n",
            "Forward/backward pass size (MB): 0.00\n",
            "Params size (MB): 0.00\n",
            "Estimated Total Size (MB): 0.00\n",
            "----------------------------------------------------------------\n"
          ]
        }
      ]
    }
  ]
}